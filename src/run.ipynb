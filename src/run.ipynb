{
 "cells": [
  {
   "cell_type": "code",
   "execution_count": 2,
   "metadata": {},
   "outputs": [],
   "source": [
    "from data import EncoderDataset, collate_fn_encoder, GraphDataset, RegressionDataset\n",
    "from encoder import EncoderModel\n",
    "from graph import GraphModel\n",
    "from regression import RegressionModel\n",
    "from model import Model\n",
    "from torch.utils.data import DataLoader\n",
    "from tokenizers import Tokenizer"
   ]
  },
  {
   "attachments": {},
   "cell_type": "markdown",
   "metadata": {},
   "source": [
    "## Language Model Encoder"
   ]
  },
  {
   "cell_type": "code",
   "execution_count": null,
   "metadata": {},
   "outputs": [],
   "source": [
    "data_path = \"data/data.json\"\n",
    "encoder_dataset = EncoderDataset(data_path)\n",
    "encoder_loader = DataLoader(\n",
    "    encoder_dataset, shuffle=False, collate_fn=collate_fn_encoder\n",
    ")"
   ]
  },
  {
   "cell_type": "code",
   "execution_count": null,
   "metadata": {},
   "outputs": [],
   "source": [
    "config = {\n",
    "    \"n_layers\": 2,\n",
    "    \"n_heads\": 2,\n",
    "    \"n_hidden\": 128,\n",
    "}\n",
    "model_name = \"scibert-scivocab-uncased\"\n",
    "encoder_model = EncoderModel(model_name, config)"
   ]
  }
 ],
 "metadata": {
  "kernelspec": {
   "display_name": "env",
   "language": "python",
   "name": "python3"
  },
  "language_info": {
   "codemirror_mode": {
    "name": "ipython",
    "version": 3
   },
   "file_extension": ".py",
   "mimetype": "text/x-python",
   "name": "python",
   "nbconvert_exporter": "python",
   "pygments_lexer": "ipython3",
   "version": "3.7.16"
  },
  "orig_nbformat": 4
 },
 "nbformat": 4,
 "nbformat_minor": 2
}
